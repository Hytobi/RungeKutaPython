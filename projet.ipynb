{
 "cells": [
  {
   "cell_type": "markdown",
   "metadata": {
    "collapsed": false
   },
   "source": [
    "# Projet Analyse Numérique 2"
   ]
  },
  {
   "cell_type": "markdown",
   "metadata": {
    "collapsed": false
   },
   "source": [
    "## Sujet : Implémenter la méthode de Runge-Kutta de résolution des équations différentielles"
   ]
  },
  {
   "cell_type": "markdown",
   "metadata": {
    "collapsed": false
   },
   "source": [
    "#### Rappel de la méthode de Runge-Kutta"
   ]
  },
  {
   "cell_type": "markdown",
   "metadata": {
    "collapsed": false
   },
   "source": [
    "Cette méthode consiste a résoudre numériquement un problème de Cauchy de la forme y'(x)=f(x,y(x)) avec comme condition initiale $y(x_0) = y_0$"
   ]
  },
  {
   "cell_type": "markdown",
   "metadata": {
    "collapsed": false
   },
   "source": [
    "Pour cela on se donne une liste de points déterminés par $x_k = x_0 + d * h$ où d est le nombre d'itération et h le pas. \\\n",
    "Pour la suite on note $y(x_k) = y_k$ "
   ]
  },
  {
   "cell_type": "markdown",
   "metadata": {
    "collapsed": false
   },
   "source": [
    "Dans le cas de la méthode de Runge-Kutta on peut approximer la solution y du problème de Cauchy avec la formule suivante : \\\n",
    "$$y_{k+1} = y_k + h * \\sum_{i=1}^{n} c_i * k_i(x_k,y_k,h) \\ \\ \\ \\ \\ \\ \\ \\ \\ \\ \\ \\ (E)$$"
   ]
  },
  {
   "cell_type": "markdown",
   "metadata": {
    "collapsed": false
   },
   "source": [
    "Pour calculer les $c_i$ et $k_i(x_k,y_k,h)$ nous allons utiliser les matrice de Butcher qui dépendent de n. \\\n",
    "Par exemple pour n=2 et n=4 on les matrices $(A_2,B_2)$ et $(A_4,B_4)$ suivantes"
   ]
  },
  {
   "cell_type": "markdown",
   "metadata": {
    "collapsed": false
   },
   "source": [
    "$$A_2=\\begin{pmatrix} 0 & 0 \\\\ 1/2 & 0 \\end{pmatrix}, \\quad B_2=\\begin{pmatrix} 0&1 \\end{pmatrix}\\quad et \\quad A_4=\\begin{pmatrix} 0&0&0&0 \\\\ 1/2&0&0&0 \\\\ 0&1/2&0&0 \\\\ 0&0&1&0 \\\\ \\end{pmatrix}, \\quad B_4=\\begin{pmatrix} 1/6&1/3&1/3&1/6 \\end{pmatrix}, $$"
   ]
  },
  {
   "cell_type": "markdown",
   "metadata": {
    "collapsed": false
   },
   "source": [
    "Les $k_i(x_k,y_k,h)$ sont donnés par la formule suivante : \\\n",
    "Pour i = 1\n",
    "    $$k_1(x_k,y_k,h)=f(x_k,y_k)$$\n",
    "pour  $n \\geq i\\geq 2$ on a\n",
    "    $$k_i(x_k,y_k,h) = f( x_k+h*T_i , y_k + h* \\sum_{j=1}^{i-1} a_{i,j} * k_j(x_k,y_k,h))$$  où   $T_i = \\sum_{j=1}^{i-1} a_{i,j}$"
   ]
  },
  {
   "cell_type": "markdown",
   "metadata": {
    "collapsed": false
   },
   "source": [
    "Les $c_i$ de la formule (E) correspondent au $b_i$ de la matrice $B_n$ de Butcher\n",
    "\n"
   ]
  },
  {
   "cell_type": "code",
   "execution_count": 0,
   "metadata": {
    "collapsed": false
   },
   "outputs": [
   ],
   "source": [
    "def RungeKuta(f,x0,y0,A,B,d,h):\n",
    "    \"\"\"\n",
    "    Entrées :\n",
    "    f     : La fonction du problème de Cauchy tel que y'(x) = f(x,y(x))\n",
    "    x0,y0 : La condition y(x0)=y0\n",
    "    A,B   : Les matrices definies par le tableau de Butcher\n",
    "    d     : Le nombre d'itération\n",
    "    h     : Le pas\n",
    "    Sortie  :\n",
    "    Y : Solutions approchées aux points de X\n",
    "    \"\"\"\n",
    "\n",
    "    n = A.nrows()      # C'est le même n que dans (E)\n",
    "    Y = []             # Liste des images obtenues Y[i] est l'image approchée de y en X[i]\n",
    "    Y.append(y0)       # y(x0)=y0\n",
    "\n",
    "    # On crée la liste des \"Théta\" qu'on utilisera dans la formule\n",
    "    T = []                       # On crée une liste vide qui va stocker les Théta\n",
    "    for i in range(0,n):         # Pour chaque ligne de la matrice\n",
    "        b=0                      # On initialise une valeur à 0\n",
    "        for j in range(0,i):     # On somme tous les coefficients de la i-ème ligne.\n",
    "            b+=A[i,j]\n",
    "        T.append(b)              # On sauvegarde cette valeur pour plus tard\n",
    "    # Remarque: T[0] n'existe pas dans la formule alors on pose T[0]=0 mais il ne sera pas appellé dans la suite\n",
    "\n",
    "\n",
    "    # On crée la liste des points auxquels on va appliquer la méthode\n",
    "    X = []                      # On crée une liste vide qui va stocker les X_k\n",
    "    for i in range(0,d):        # Pour chaque itération il nous faut un X_k\n",
    "        X.append(x0 + i * h)    # On crée le X_k et on le sauvegarde pour plus tard\n",
    "\n",
    "\n",
    "    # On crée la liste des K_i qui change a chaque itération car depend de l'itération précedente\n",
    "    for i in range(0,d):                                       # Pour chaque itération\n",
    "        K = []                                                 # On crée une liste vide qui va stocker les K_i de la formule\n",
    "        for j in range(0,n):                                   # On va avoir besoin de n K_i pour la formule\n",
    "            b=0                                                # On initialise une valeur à 0\n",
    "            for k in range(0,j):                               # On commence par calculer la somme qui est dans la formule des K_i\n",
    "                b += A[j,k] * K[k]\n",
    "            K.append(f( X[i] + T[j] * h , Y[i] + h * b ))      # On calcule K_i et on le sauvegarde pour plus tard\n",
    "\n",
    "        # On peut maintenant utiliser (E)\n",
    "        p=0                        # On initialise une valeur à 0\n",
    "        for k in range(0,n):       # On calcule la somme qui est dans la formule (E)\n",
    "            p += B[k] * K[k]\n",
    "        Y.append(Y[i] + h * p)     # Et on le stock dans la liste\n",
    "\n",
    "    return Y         # Y est de la forme [ y_0, y_1, y_2, ..., y_d] = [ y(x_0), y(x_1), y(x_2), ..., y(x_d)]"
   ]
  },
  {
   "cell_type": "code",
   "execution_count": 1,
   "metadata": {
    "collapsed": false
   },
   "outputs": [
   ],
   "source": [
    "f(x,y) = y * exp(x)\n",
    "A = matrix([[0,0,0,0],[1/2,0,0,0],[0,1/2,0,0],[0,0,1,0]])\n",
    "B = vector([1/6,1/3,1/3,1/6])\n",
    "x0 = 0\n",
    "y0 = 2\n",
    "d = 3\n",
    "h = 0.1"
   ]
  },
  {
   "cell_type": "code",
   "execution_count": 10,
   "metadata": {
    "collapsed": false,
    "scrolled": true
   },
   "outputs": [
    {
     "data": {
      "text/plain": [
       "[2, 2.22180070494562, 2.49565112386409, 2.83773284842806]"
      ]
     },
     "execution_count": 10,
     "metadata": {
     },
     "output_type": "execute_result"
    }
   ],
   "source": [
    "RungeKuta(f,x0,y0,A,B,d,h)"
   ]
  },
  {
   "cell_type": "code",
   "execution_count": 11,
   "metadata": {
    "collapsed": false
   },
   "outputs": [
    {
     "data": {
      "text/plain": [
       "[2, 2.20000000000000, 2.44313760197664, 2.74154310253855]"
      ]
     },
     "execution_count": 11,
     "metadata": {
     },
     "output_type": "execute_result"
    }
   ],
   "source": [
    "C = matrix([[0]])\n",
    "D = vector([1])\n",
    "RungeKuta(f,x0,y0,C,D,d,h)"
   ]
  },
  {
   "cell_type": "markdown",
   "metadata": {
    "collapsed": false
   },
   "source": [
    "#### Source"
   ]
  },
  {
   "cell_type": "markdown",
   "metadata": {
    "collapsed": false
   },
   "source": [
    "https://en.wikipedia.org/wiki/Runge%E2%80%93Kutta_methods"
   ]
  },
  {
   "cell_type": "markdown",
   "metadata": {
    "collapsed": false
   },
   "source": [
    "### Marine Noel, Louis Bouttemy, Mehdi Benmostefa, Patrice Plouvin."
   ]
  }
 ],
 "metadata": {
  "kernelspec": {
   "display_name": "SageMath 9.2",
   "language": "sagemath",
   "metadata": {
    "cocalc": {
     "description": "Open-source mathematical software system",
     "priority": 1,
     "url": "https://www.sagemath.org/"
    }
   },
   "name": "sage-9.2",
   "resource_dir": "/ext/jupyter/kernels/sage-9.2"
  },
  "language_info": {
   "codemirror_mode": {
    "name": "ipython",
    "version": 3
   },
   "file_extension": ".py",
   "mimetype": "text/x-python",
   "name": "python",
   "nbconvert_exporter": "python",
   "pygments_lexer": "ipython3",
   "version": "3.8.5"
  }
 },
 "nbformat": 4,
 "nbformat_minor": 4
}